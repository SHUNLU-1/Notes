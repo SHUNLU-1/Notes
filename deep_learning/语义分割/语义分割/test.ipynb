{
 "cells": [
  {
   "cell_type": "markdown",
   "metadata": {},
   "source": [
    "> ### 测试连接数据集"
   ]
  },
  {
   "cell_type": "code",
   "execution_count": null,
   "metadata": {},
   "outputs": [],
   "source": [
    "# !/usr/bin/env python3\n",
    "\n",
    "from PIL import Image\n",
    "from tensorbay import GAS\n",
    "from tensorbay.dataset import Dataset\n",
    "\n",
    "# Authorize a GAS client.\n",
    "gas = GAS('Accesskey-738bd662e2e9bb10df99591815278c7c')\n",
    "\n",
    "# Get a dataset.\n",
    "dataset = Dataset('VOC2012', gas)\n",
    "\n",
    "# List dataset segments.\n",
    "segments = dataset.keys()\n",
    "\n",
    "# Get a segment by name\n",
    "segment = dataset[\"train\"]\n",
    "# for data in segment:\n",
    "#     fp = data.open()\n",
    "# Use the data as you like.\n",
    "for data in segment:\n",
    "    with data.open() as fp:\n",
    "        image = Image.open(fp)\n",
    "        width, height = image.size\n",
    "        \n",
    "        image.show()\n"
   ]
  },
  {
   "cell_type": "code",
   "execution_count": null,
   "metadata": {},
   "outputs": [],
   "source": [
    "import os\n",
    "from tensorbay import GAS\n",
    "from tensorbay.dataset import Data, Dataset\n",
    "from tensorbay.label import InstanceMask, SemanticMask\n",
    "from PIL import Image\n",
    "import numpy as np\n",
    "import torchvision\n",
    "import matplotlib.pyplot as plt\n",
    "\n",
    "ACCESS_KEY = \"<YOUR_ACCESSKEY>\"\n",
    "gas = GAS(ACCESS_KEY)\n",
    "\n",
    "\n",
    "def read_voc_images(is_train=True, index=0):\n",
    "    \"\"\"\n",
    "    read voc image using tensorbay\n",
    "    \"\"\"\n",
    "    dataset = Dataset(\"VOC2012Segmentation\", gas)\n",
    "    if is_train:\n",
    "        segment = dataset[\"train\"]\n",
    "    else:\n",
    "        segment = dataset[\"test\"]\n",
    "\n",
    "    data = segment[index]\n",
    "    feature = Image.open(data.open()).convert(\"RGB\")\n",
    "    label = Image.open(data.label.semantic_mask.open()).convert(\"RGB\")\n",
    "    visualize(feature, label)\n",
    "\n",
    "    return feature, label  # PIL Image\n",
    "\n",
    "\n",
    "def visualize(feature, label):\n",
    "    \"\"\"\n",
    "    visualize feature and label\n",
    "    \"\"\"\n",
    "    fig = plt.figure()\n",
    "    ax = fig.add_subplot(121)  # 第一个子图\n",
    "    ax.imshow(feature)\n",
    "    ax2 = fig.add_subplot(122)  # 第二个子图\n",
    "    ax2.imshow(label)\n",
    "    plt.show()\n",
    "\n",
    "train_feature, train_label = read_voc_images(is_train=True, index=10)\n",
    "train_label = np.array(train_label) # (375, 500, 3)"
   ]
  }
 ],
 "metadata": {
  "interpreter": {
   "hash": "5a1c65d9caf4acfee23d15ee3ad78f4edc3a2f7ad1e8216cadc6d3a468c381c6"
  },
  "kernelspec": {
   "display_name": "Python 3.8.8 64-bit ('base': conda)",
   "language": "python",
   "name": "python3"
  },
  "language_info": {
   "codemirror_mode": {
    "name": "ipython",
    "version": 3
   },
   "file_extension": ".py",
   "mimetype": "text/x-python",
   "name": "python",
   "nbconvert_exporter": "python",
   "pygments_lexer": "ipython3",
   "version": "3.8.8"
  },
  "orig_nbformat": 4
 },
 "nbformat": 4,
 "nbformat_minor": 2
}
