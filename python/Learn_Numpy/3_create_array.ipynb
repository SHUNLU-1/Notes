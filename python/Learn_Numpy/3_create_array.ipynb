{
 "cells": [
  {
   "cell_type": "markdown",
   "metadata": {},
   "source": [
    "### 创建数组\n",
    "\n",
    "#### 1.简介\n",
    "创建数组有5种常规机制：\n",
    "\n",
    "+ 从其他Python结构（例如，列表，元组）转换\n",
    "+ numpy原生数组的创建（例如，arange、ones、zeros等）\n",
    "+ 从磁盘读取数组，无论是标准格式还是自定义格式\n",
    "+ 通过使用字符串或缓冲区从原始字节创建数组\n",
    "+ 使用特殊库函数（例如，random）\n",
    "本节不包括复制，连接或以其他方式扩展或改变现有数组的方法。它也不会涵盖创建对象数组或结构化数组。这些都包含在他们自己的章节中。"
   ]
  },
  {
   "cell_type": "markdown",
   "metadata": {},
   "source": [
    "#### 2.将Python array_like对象转换为Numpy数组\n",
    "\n",
    "通常，在Python中排列成array-like结构的数值数据可以通过使用array()函数转换为数组。最明显的例子是列表和元组。有关其使用的详细信息，请参阅array()的文档。一些对象可能支持数组协议并允许以这种方式转换为数组。找出对象是否可以使用array()转换为一个数组numpy 数组的简单方法很简单，只要交互式试一下，看看它是否工作！（Python方式）。"
   ]
  },
  {
   "cell_type": "code",
   "execution_count": 2,
   "metadata": {},
   "outputs": [
    {
     "name": "stdout",
     "output_type": "stream",
     "text": [
      "[2 3 1 0] [[1.+0.j 2.+0.j]\n",
      " [0.+0.j 0.+0.j]\n",
      " [1.+1.j 3.+0.j]] [[1.+0.j 2.+0.j]\n",
      " [0.+0.j 0.+0.j]\n",
      " [1.+1.j 3.+0.j]]\n"
     ]
    }
   ],
   "source": [
    "import numpy as np\n",
    "import types\n",
    "x = np.array([2,3,1,0])\n",
    "y = np.array([[1,2.0],[0,0],(1+1j,3.)])  # note mix of tuple and lists,and types\n",
    "z = np.array([[ 1.+0.j, 2.+0.j], [ 0.+0.j, 0.+0.j], [ 1.+1.j, 3.+0.j]])\n",
    "print(x,y,z)"
   ]
  },
  {
   "cell_type": "markdown",
   "metadata": {},
   "source": [
    "#### 3.Numpy原生数组的创建\n",
    "Numpy内置了从头开始创建数组的函数：\n",
    "\n",
    "zeros(shape)将创建一个用指定形状用0填充的数组。默认的dtype是float64。\n",
    "\n"
   ]
  },
  {
   "cell_type": "code",
   "execution_count": 3,
   "metadata": {},
   "outputs": [
    {
     "data": {
      "text/plain": [
       "array([[0., 0., 0.],\n",
       "       [0., 0., 0.]])"
      ]
     },
     "execution_count": 3,
     "metadata": {},
     "output_type": "execute_result"
    }
   ],
   "source": [
    "np.zeros((2, 3))"
   ]
  },
  {
   "cell_type": "markdown",
   "metadata": {},
   "source": [
    "ones(shape)将创建一个用1个值填充的数组。它在所有其他方面与zeros相同。\n",
    "\n",
    "arange()将创建具有有规律递增值的数组。检查文档字符串以获取有关可以使用的各种方式的完整信息。这里给出几个例子："
   ]
  },
  {
   "cell_type": "code",
   "execution_count": 4,
   "metadata": {},
   "outputs": [
    {
     "name": "stdout",
     "output_type": "stream",
     "text": [
      "[0 1 2 3 4 5 6 7 8 9] [2. 3. 4. 5. 6. 7. 8. 9.] [2.  2.1 2.2 2.3 2.4 2.5 2.6 2.7 2.8 2.9]\n"
     ]
    },
    {
     "name": "stderr",
     "output_type": "stream",
     "text": [
      "/tmp/ipykernel_1685840/2855721624.py:2: DeprecationWarning: `np.float` is a deprecated alias for the builtin `float`. To silence this warning, use `float` by itself. Doing this will not modify any behavior and is safe. If you specifically wanted the numpy scalar type, use `np.float64` here.\n",
      "Deprecated in NumPy 1.20; for more details and guidance: https://numpy.org/devdocs/release/1.20.0-notes.html#deprecations\n",
      "  y = np.arange(2, 10, dtype=np.float)\n"
     ]
    }
   ],
   "source": [
    "x = np.arange(10)\n",
    "y = np.arange(2, 10, dtype=np.float)\n",
    "z = np.arange(2, 3, 0.1)\n",
    "print(x,y,z)"
   ]
  },
  {
   "cell_type": "markdown",
   "metadata": {},
   "source": [
    "请注意，关于用户应该注意的最后用法在arange文档字符串中有一些细微的描述。\n",
    "\n",
    "linspace() 将创建具有指定数量元素的数组，并在指定的开始值和结束值之间平均间隔。例如："
   ]
  },
  {
   "cell_type": "code",
   "execution_count": 5,
   "metadata": {},
   "outputs": [
    {
     "data": {
      "text/plain": [
       "array([1. , 1.6, 2.2, 2.8, 3.4, 4. ])"
      ]
     },
     "execution_count": 5,
     "metadata": {},
     "output_type": "execute_result"
    }
   ],
   "source": [
    "np.linspace(1., 4., 6)"
   ]
  },
  {
   "cell_type": "markdown",
   "metadata": {},
   "source": [
    "这个创建函数的优点是可以保证元素的数量以及开始和结束点，对于任意的开始，停止和步骤值，arange()通常不会这样做。\n",
    "\n",
    "indices() 将创建一组数组（堆积为一个更高维的数组），每个维度一个，每个维度表示该维度中的变化。一个例子说明比口头描述要好得多："
   ]
  },
  {
   "cell_type": "code",
   "execution_count": 6,
   "metadata": {},
   "outputs": [
    {
     "data": {
      "text/plain": [
       "array([[[0, 0, 0],\n",
       "        [1, 1, 1],\n",
       "        [2, 2, 2]],\n",
       "\n",
       "       [[0, 1, 2],\n",
       "        [0, 1, 2],\n",
       "        [0, 1, 2]]])"
      ]
     },
     "execution_count": 6,
     "metadata": {},
     "output_type": "execute_result"
    }
   ],
   "source": [
    "np.indices((3,3))"
   ]
  },
  {
   "cell_type": "markdown",
   "metadata": {},
   "source": [
    "#### 4.从磁盘读取数组\n",
    "这大概是大数组创建的最常见情况。当然，细节很大程度上取决于磁盘上的数据格式，所以本节只能给出如何处理各种格式的一般指示。\n",
    "\n",
    "##### 4.1标准二进制格式\n",
    "各种字段都有数组数据的标准格式。下面列出了那些已知的Python库来读取它们并返回numpy数组（可能有其他可能读取并转换为numpy数组的其他数据，因此请检查最后一节）\n",
    "```\n",
    "HDF5: h5py\n",
    "FITS: Astropy\n",
    "```\n",
    "无法直接读取但不易转换的格式示例是像PIL这样的库支持的格式（能够读取和写入许多图像格式，如jpg，png等）。\n",
    "\n",
    "##### 4.2常见ASCII格式\n",
    "逗号分隔值文件（CSV）被广泛使用（以及Excel等程序的导出和导入选项）。有很多方法可以在Python中阅读这些文件。python中有CSV函数和pylab函数（matplotlib的一部分）。\n",
    "\n",
    "更多通用的ascii文件可以在scipy中使用io软件包读取。\n",
    "\n",
    "##### 4.3自定义二进制格式\n",
    "有各种各样的方法可以使用。如果文件具有相对简单的格式，那么可以编写一个简单的 I/O 库，并使用 numpy fromfile() 函数和 .tofile() 方法直接读取和写入numpy数组（尽管介意你的字节序）！如果存在一个读取数据的良好 C 或 C++ 库，可以使用各种技术来封装该库，但这肯定要做得更多，并且需要更多的高级知识才能与C或C++ 接口。\n",
    "\n",
    "##### 4.4使用特殊库\n",
    "有些库可用于生成特殊用途的数组，且无法列出所有的这些库。最常见的用途是随机使用许多数组生成函数，这些函数可以生成随机值数组，以及一些实用函数来生成特殊矩阵（例如对角线）。\n",
    "\n"
   ]
  }
 ],
 "metadata": {
  "interpreter": {
   "hash": "77dd019d3c235bc0a933ff4608dcea46cb01adeea9aae9b61e3ada9ccf9bf55b"
  },
  "kernelspec": {
   "display_name": "Python 3.8.12 ('tensorflow')",
   "language": "python",
   "name": "python3"
  },
  "language_info": {
   "codemirror_mode": {
    "name": "ipython",
    "version": 3
   },
   "file_extension": ".py",
   "mimetype": "text/x-python",
   "name": "python",
   "nbconvert_exporter": "python",
   "pygments_lexer": "ipython3",
   "version": "3.8.12"
  },
  "orig_nbformat": 4
 },
 "nbformat": 4,
 "nbformat_minor": 2
}
