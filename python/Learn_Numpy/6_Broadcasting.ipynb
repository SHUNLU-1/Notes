{
 "cells": [
  {
   "cell_type": "markdown",
   "metadata": {},
   "source": [
    "### 广播（Broadcasting）\n",
    "术语广播（Broadcasting）描述了 numpy 如何在算术运算期间处理具有不同形状的数组。受某些约束的影响，较小的数组在较大的数组上“广播”，以便它们具有兼容的形状。广播提供了一种矢量化数组操作的方法，以便在C而不是Python中进行循环。它可以在不制作不必要的数据副本的情况下实现这一点，通常导致高效的算法实现。然而，有些情况下广播是一个坏主意，因为它会导致内存使用效率低下，从而减慢计算速度。\n",
    "\n",
    "NumPy 操作通常在逐个元素的基础上在数组对上完成。在最简单的情况下，两个数组必须具有完全相同的形状，如下例所示："
   ]
  },
  {
   "cell_type": "code",
   "execution_count": 1,
   "metadata": {},
   "outputs": [
    {
     "name": "stdout",
     "output_type": "stream",
     "text": [
      "[2. 4. 6.]\n"
     ]
    }
   ],
   "source": [
    "import numpy as np\n",
    "a = np.array([1.0, 2.0, 3.0])\n",
    "b = np.array([2.0, 2.0, 2.0])\n",
    "print(a * b)"
   ]
  },
  {
   "cell_type": "markdown",
   "metadata": {},
   "source": [
    "当数组的形状满足某些约束时，NumPy的广播规则放宽了这种约束。当一个数组和一个标量值在一个操作中组合时，会发生最简单的广播示例："
   ]
  },
  {
   "cell_type": "code",
   "execution_count": 2,
   "metadata": {},
   "outputs": [
    {
     "name": "stdout",
     "output_type": "stream",
     "text": [
      "[2. 4. 6.]\n"
     ]
    }
   ],
   "source": [
    "a = np.array([1.0, 2.0, 3.0])\n",
    "b = 2.0\n",
    "print(a * b)"
   ]
  },
  {
   "cell_type": "markdown",
   "metadata": {},
   "source": [
    "结果等同于前面的例子，其中b是一个数组。我们可以认为标量在算术运算期间b被拉伸成与 具有相同形状的数组a。中的新元素 b，如图 1所示，只是原始标量的副本。拉伸类比只是概念性的。NumPy 足够聪明，可以使用原始标量值而无需实际制作副本，因此广播操作尽可能地占用内存和计算效率。\n",
    "\n",
    "\n",
    "![图 1](https://numpy.org/devdocs/_images/broadcasting_1.png)\n",
    "\n",
    "\n",
    "在最简单的广播示例中，标量 b 被拉伸成一个形状相同的数组， a 因此这些形状与逐个元素的乘法兼容。\n",
    "\n",
    "第二个示例中的代码比第一个示例中的代码更有效，因为广播在乘法期间移动的内存更少（b是标量而不是数组）。\n",
    "\n"
   ]
  },
  {
   "cell_type": "markdown",
   "metadata": {},
   "source": [
    "#### 1.一般广播规则\n",
    "当对两个数组进行操作时，NumPy 会逐元素比较它们的形状。它从尾随（即最右边）维度开始，然后向左工作。两个维度兼容时\n",
    "\n",
    "+ 他们是平等的，或者\n",
    "+ 其中之一是 1\n",
    "\n",
    "如果不满足这些条件， 则会引发异常，指示数组具有不兼容的形状。结果数组的大小是沿输入的每个轴不为 1 的大小。ValueError: operands could not be broadcast together\n",
    "\n",
    "数组不需要具有相同的维数。例如，如果您有一个256x256x3RGB 值数组，并且希望将图像中的每种颜色按不同的值缩放，则可以将图像乘以具有 3 个值的一维数组。根据广播规则排列这些数组的尾轴大小，表明它们是兼容的：\n",
    "```python\n",
    "Image  (3d array): 256 x 256 x 3\n",
    "Scale  (1d array):             3\n",
    "Result (3d array): 256 x 256 x 3\n",
    "```\n",
    "当比较的任何一个尺寸为1时，使用另一个尺寸。换句话说，尺寸为1的尺寸被拉伸或“复制”以匹配另一个尺寸。\n",
    "\n",
    "在以下示例中，A和B数组都具有长度为1的轴，在广播操作期间会扩展为更大的大小\n",
    "\n",
    "```python\n",
    "A      (4d array):  8 x 1 x 6 x 1\n",
    "B      (3d array):      7 x 1 x 5\n",
    "Result (4d array):  8 x 7 x 6 x 5\n",
    "```\n",
    "以下是一些例子：\n",
    "```python\n",
    "A      (2d array):  5 x 4\n",
    "B      (1d array):      1\n",
    "Result (2d array):  5 x 4\n",
    "\n",
    "A      (2d array):  5 x 4\n",
    "B      (1d array):      4\n",
    "Result (2d array):  5 x 4\n",
    "\n",
    "A      (3d array):  15 x 3 x 5\n",
    "B      (3d array):  15 x 1 x 5\n",
    "Result (3d array):  15 x 3 x 5\n",
    "\n",
    "A      (3d array):  15 x 3 x 5\n",
    "B      (2d array):       3 x 5\n",
    "Result (3d array):  15 x 3 x 5\n",
    "\n",
    "A      (3d array):  15 x 3 x 5\n",
    "B      (2d array):       3 x 1\n",
    "Result (3d array):  15 x 3 x 5\n",
    "```\n",
    "以下是不广播的形状示例：\n",
    "```python\n",
    "A      (1d array):  3\n",
    "B      (1d array):  4 # trailing dimensions do not match\n",
    "\n",
    "A      (2d array):      2 x 1\n",
    "B      (3d array):  8 x 4 x 3 # second from last dimensions mismatched\n",
    "```\n",
    "实践中广播的一个例子："
   ]
  },
  {
   "cell_type": "code",
   "execution_count": 7,
   "metadata": {},
   "outputs": [
    {
     "name": "stdout",
     "output_type": "stream",
     "text": [
      "(4,)\n",
      "(5,)\n",
      "(4, 1)\n",
      "(5,)\n",
      "(4, 5)\n",
      "[[1. 1. 1. 1. 1.]\n",
      " [2. 2. 2. 2. 2.]\n",
      " [3. 3. 3. 3. 3.]\n",
      " [4. 4. 4. 4. 4.]]\n",
      "(4,)\n",
      "(3, 4)\n",
      "(3, 4)\n",
      "[[1. 2. 3. 4.]\n",
      " [1. 2. 3. 4.]\n",
      " [1. 2. 3. 4.]]\n"
     ]
    }
   ],
   "source": [
    "x = np.arange(4)\n",
    "xx = x.reshape(4,1)\n",
    "y = np.ones(5)\n",
    "z = np.ones((3,4))\n",
    "print(x.shape)\n",
    "print(y.shape)\n",
    "# print(x + y)\n",
    "print(xx.shape)\n",
    "print(y.shape)\n",
    "print((xx + y).shape)\n",
    "print(xx + y)\n",
    "print(x.shape)\n",
    "print(z.shape)\n",
    "print((x + z).shape)\n",
    "print(x+z)"
   ]
  },
  {
   "cell_type": "markdown",
   "metadata": {},
   "source": [
    "广播提供了一种方便的方式来获取两个数组的外积（或任何其他外部操作）。以下示例显示了两个1-d数组的外积操作："
   ]
  },
  {
   "cell_type": "code",
   "execution_count": 10,
   "metadata": {},
   "outputs": [
    {
     "name": "stdout",
     "output_type": "stream",
     "text": [
      "[[ 1.  2.  3.]\n",
      " [11. 12. 13.]\n",
      " [21. 22. 23.]\n",
      " [31. 32. 33.]]\n",
      "None\n"
     ]
    }
   ],
   "source": [
    "a = np.array([0.0, 10.0, 20.0, 30.0])\n",
    "b = np.array([1.0, 2.0, 3.0])\n",
    "print(a[:, np.newaxis] + b)\n"
   ]
  },
  {
   "cell_type": "markdown",
   "metadata": {},
   "source": [
    "这里 newaxis 索引操作符插入一个新轴 a ，使其成为一个二维 4x1 数组。将 4x1 数组与形状为 (3,) 的 b 组合，产生一个4x3数组。"
   ]
  },
  {
   "cell_type": "code",
   "execution_count": 36,
   "metadata": {},
   "outputs": [
    {
     "name": "stdout",
     "output_type": "stream",
     "text": [
      "ssss\n",
      " [[[ 0  0]\n",
      "  [ 1  1]\n",
      "  [ 4  4]\n",
      "  [ 9  9]\n",
      "  [25 16]\n",
      "  [16 25]\n",
      "  [36 36]]\n",
      "\n",
      " [[ 1  1]\n",
      "  [ 0  0]\n",
      "  [ 1  1]\n",
      "  [ 4  4]\n",
      "  [16  9]\n",
      "  [ 9 16]\n",
      "  [25 25]]\n",
      "\n",
      " [[ 4  4]\n",
      "  [ 1  1]\n",
      "  [ 0  0]\n",
      "  [ 1  1]\n",
      "  [ 9  4]\n",
      "  [ 4  9]\n",
      "  [16 16]]\n",
      "\n",
      " [[ 9  9]\n",
      "  [ 4  4]\n",
      "  [ 1  1]\n",
      "  [ 0  0]\n",
      "  [ 4  1]\n",
      "  [ 1  4]\n",
      "  [ 9  9]]\n",
      "\n",
      " [[25 16]\n",
      "  [16  9]\n",
      "  [ 9  4]\n",
      "  [ 4  1]\n",
      "  [ 0  0]\n",
      "  [ 1  1]\n",
      "  [ 1  4]]\n",
      "\n",
      " [[16 25]\n",
      "  [ 9 16]\n",
      "  [ 4  9]\n",
      "  [ 1  4]\n",
      "  [ 1  1]\n",
      "  [ 0  0]\n",
      "  [ 4  1]]\n",
      "\n",
      " [[36 36]\n",
      "  [25 25]\n",
      "  [16 16]\n",
      "  [ 9  9]\n",
      "  [ 1  4]\n",
      "  [ 4  1]\n",
      "  [ 0  0]]]\n",
      "dist_sq\n",
      " [[ 0  2  8 18 41 41 72]\n",
      " [ 2  0  2  8 25 25 50]\n",
      " [ 8  2  0  2 13 13 32]\n",
      " [18  8  2  0  5  5 18]\n",
      " [41 25 13  5  0  2  5]\n",
      " [41 25 13  5  2  0  5]\n",
      " [72 50 32 18  5  5  0]]\n",
      "(7, 7)\n"
     ]
    }
   ],
   "source": [
    "import numpy as np\n",
    "from numpy import random\n",
    "# X = random.rand(10, 2)\n",
    "\n",
    "X=np.array([[1, 2, 3, 4, 6, 5, 7],[1, 2, 3, 4, 5, 6, 7]])\n",
    "\n",
    "X=X.T\n",
    "# print(X.shape)\n",
    "# print(X[:,np.newaxis,:])\n",
    "# print(X[np.newaxis,:,:])\n",
    "print(\"ssss\\n\",(X[:,np.newaxis,:] - X[np.newaxis,:,:]) ** 2)\n",
    "\n",
    "dist_sq = np.sum((X[:,np.newaxis,:] - X[np.newaxis,:,:]) ** 2, axis=-1)\n",
    "print(\"dist_sq\\n\",dist_sq)\n",
    "print(dist_sq.shape)"
   ]
  },
  {
   "cell_type": "code",
   "execution_count": 41,
   "metadata": {},
   "outputs": [
    {
     "name": "stdout",
     "output_type": "stream",
     "text": [
      "[[0 1 2 3 4 5 6]\n",
      " [1 0 2 3 4 5 6]\n",
      " [2 1 3 0 4 5 6]\n",
      " [3 2 4 5 1 0 6]\n",
      " [4 5 3 6 2 1 0]\n",
      " [5 4 3 6 2 1 0]\n",
      " [6 4 5 3 2 1 0]]\n"
     ]
    },
    {
     "data": {
      "image/png": "[encoded data removed]",
      "text/plain": [
       "<Figure size 432x288 with 1 Axes>"
      ]
     },
     "metadata": {
      "needs_background": "light"
     },
     "output_type": "display_data"
    }
   ],
   "source": [
    "nearest = np.argsort(dist_sq, axis=1)\n",
    "print(nearest)\n",
    "K = 2\n",
    "nearest_partition = np.argpartition(dist_sq, K + 1, axis=1)\n",
    "import matplotlib.pyplot as plt\n",
    "\n",
    "plt.scatter(X[:, 0], X[:, 1], s=100)\n",
    "# 将每个点与它的两个最近邻连接\n",
    "K = 2\n",
    "for i in range(X.shape[0]):\n",
    "    for j in nearest_partition[i, :K+1]:\n",
    "        # 画一条从X[i]到X[j]的线段\n",
    "        # 用zip方法实现：\n",
    "        plt.plot(*zip(X[j], X[i]), color='black')"
   ]
  }
 ],
 "metadata": {
  "interpreter": {
   "hash": "77dd019d3c235bc0a933ff4608dcea46cb01adeea9aae9b61e3ada9ccf9bf55b"
  },
  "kernelspec": {
   "display_name": "Python 3.8.12 ('tensorflow')",
   "language": "python",
   "name": "python3"
  },
  "language_info": {
   "codemirror_mode": {
    "name": "ipython",
    "version": 3
   },
   "file_extension": ".py",
   "mimetype": "text/x-python",
   "name": "python",
   "nbconvert_exporter": "python",
   "pygments_lexer": "ipython3",
   "version": "3.9.7"
  },
  "orig_nbformat": 4
 },
 "nbformat": 4,
 "nbformat_minor": 2
}
