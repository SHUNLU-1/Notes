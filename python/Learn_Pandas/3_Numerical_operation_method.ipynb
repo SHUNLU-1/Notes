{
 "cells": [
  {
   "cell_type": "markdown",
   "metadata": {},
   "source": [
    "# 1 Pandas 数值运算方法\n",
    "对于一元运算（像函数与三角函数），这些通用函\n",
    "数将在输出结果中保留索引和列标签；而对于二元运算（如加法和乘法），Pandas 在传递\n",
    "通用函数时会自动对齐索引进行计算。这就意味着，保存数据内容与组合不同来源的数\n",
    "据——两处在 NumPy 数组中都容易出错的地方——变成了 Pandas 的杀手锏。后面还会介\n",
    "绍一些关于一维 Series 和二维 DataFrame 的便捷运算方法"
   ]
  },
  {
   "cell_type": "markdown",
   "metadata": {},
   "source": [
    "### 1.1通用函数 ： 保留索引"
   ]
  },
  {
   "cell_type": "code",
   "execution_count": 1,
   "metadata": {},
   "outputs": [
    {
     "data": {
      "text/plain": [
       "0    6\n",
       "1    3\n",
       "2    7\n",
       "3    4\n",
       "dtype: int64"
      ]
     },
     "execution_count": 1,
     "metadata": {},
     "output_type": "execute_result"
    }
   ],
   "source": [
    "import pandas as pd\n",
    "import numpy as np\n",
    "rng = np.random.RandomState(42)\n",
    "ser = pd.Series(rng.randint(0, 10, 4))\n",
    "ser"
   ]
  },
  {
   "cell_type": "code",
   "execution_count": 2,
   "metadata": {},
   "outputs": [
    {
     "data": {
      "text/html": [
       "<div>\n",
       "<style scoped>\n",
       "    .dataframe tbody tr th:only-of-type {\n",
       "        vertical-align: middle;\n",
       "    }\n",
       "\n",
       "    .dataframe tbody tr th {\n",
       "        vertical-align: top;\n",
       "    }\n",
       "\n",
       "    .dataframe thead th {\n",
       "        text-align: right;\n",
       "    }\n",
       "</style>\n",
       "<table border=\"1\" class=\"dataframe\">\n",
       "  <thead>\n",
       "    <tr style=\"text-align: right;\">\n",
       "      <th></th>\n",
       "      <th>A</th>\n",
       "      <th>B</th>\n",
       "      <th>C</th>\n",
       "      <th>D</th>\n",
       "    </tr>\n",
       "  </thead>\n",
       "  <tbody>\n",
       "    <tr>\n",
       "      <th>0</th>\n",
       "      <td>6</td>\n",
       "      <td>9</td>\n",
       "      <td>2</td>\n",
       "      <td>6</td>\n",
       "    </tr>\n",
       "    <tr>\n",
       "      <th>1</th>\n",
       "      <td>7</td>\n",
       "      <td>4</td>\n",
       "      <td>3</td>\n",
       "      <td>7</td>\n",
       "    </tr>\n",
       "    <tr>\n",
       "      <th>2</th>\n",
       "      <td>7</td>\n",
       "      <td>2</td>\n",
       "      <td>5</td>\n",
       "      <td>4</td>\n",
       "    </tr>\n",
       "  </tbody>\n",
       "</table>\n",
       "</div>"
      ],
      "text/plain": [
       "   A  B  C  D\n",
       "0  6  9  2  6\n",
       "1  7  4  3  7\n",
       "2  7  2  5  4"
      ]
     },
     "execution_count": 2,
     "metadata": {},
     "output_type": "execute_result"
    }
   ],
   "source": [
    "df = pd.DataFrame(rng.randint(0, 10, (3, 4)),\n",
    "columns=['A', 'B', 'C', 'D'])\n",
    "df"
   ]
  },
  {
   "cell_type": "markdown",
   "metadata": {},
   "source": [
    "如果对这两个对象的其中一个使用 NumPy 通用函数，生成的结果是另一个保留索引的\n",
    "Pandas 对象："
   ]
  },
  {
   "cell_type": "code",
   "execution_count": 3,
   "metadata": {},
   "outputs": [
    {
     "data": {
      "text/plain": [
       "0     403.428793\n",
       "1      20.085537\n",
       "2    1096.633158\n",
       "3      54.598150\n",
       "dtype: float64"
      ]
     },
     "execution_count": 3,
     "metadata": {},
     "output_type": "execute_result"
    }
   ],
   "source": [
    "np.exp(ser)"
   ]
  },
  {
   "cell_type": "code",
   "execution_count": 4,
   "metadata": {},
   "outputs": [
    {
     "data": {
      "text/html": [
       "<div>\n",
       "<style scoped>\n",
       "    .dataframe tbody tr th:only-of-type {\n",
       "        vertical-align: middle;\n",
       "    }\n",
       "\n",
       "    .dataframe tbody tr th {\n",
       "        vertical-align: top;\n",
       "    }\n",
       "\n",
       "    .dataframe thead th {\n",
       "        text-align: right;\n",
       "    }\n",
       "</style>\n",
       "<table border=\"1\" class=\"dataframe\">\n",
       "  <thead>\n",
       "    <tr style=\"text-align: right;\">\n",
       "      <th></th>\n",
       "      <th>A</th>\n",
       "      <th>B</th>\n",
       "      <th>C</th>\n",
       "      <th>D</th>\n",
       "    </tr>\n",
       "  </thead>\n",
       "  <tbody>\n",
       "    <tr>\n",
       "      <th>0</th>\n",
       "      <td>-1.000000</td>\n",
       "      <td>7.071068e-01</td>\n",
       "      <td>1.000000</td>\n",
       "      <td>-1.000000e+00</td>\n",
       "    </tr>\n",
       "    <tr>\n",
       "      <th>1</th>\n",
       "      <td>-0.707107</td>\n",
       "      <td>1.224647e-16</td>\n",
       "      <td>0.707107</td>\n",
       "      <td>-7.071068e-01</td>\n",
       "    </tr>\n",
       "    <tr>\n",
       "      <th>2</th>\n",
       "      <td>-0.707107</td>\n",
       "      <td>1.000000e+00</td>\n",
       "      <td>-0.707107</td>\n",
       "      <td>1.224647e-16</td>\n",
       "    </tr>\n",
       "  </tbody>\n",
       "</table>\n",
       "</div>"
      ],
      "text/plain": [
       "          A             B         C             D\n",
       "0 -1.000000  7.071068e-01  1.000000 -1.000000e+00\n",
       "1 -0.707107  1.224647e-16  0.707107 -7.071068e-01\n",
       "2 -0.707107  1.000000e+00 -0.707107  1.224647e-16"
      ]
     },
     "execution_count": 4,
     "metadata": {},
     "output_type": "execute_result"
    }
   ],
   "source": [
    "np.sin(df * np.pi / 4)"
   ]
  },
  {
   "cell_type": "markdown",
   "metadata": {},
   "source": [
    "### 1.2通用函数 ： 索引对齐\n",
    "\n",
    "当在两个 Series 或 DataFrame 对象上进行二元计算时，Pandas 会在计算过程中对齐两个对\n",
    "象的索引\n",
    "\n",
    "##### 1.2.1. Series 索引对齐"
   ]
  },
  {
   "cell_type": "code",
   "execution_count": 7,
   "metadata": {},
   "outputs": [
    {
     "name": "stdout",
     "output_type": "stream",
     "text": [
      "Alaska              NaN\n",
      "California    90.413926\n",
      "New York            NaN\n",
      "Texas         38.018740\n",
      "dtype: float64\n",
      "Index(['Alaska', 'California', 'New York', 'Texas'], dtype='object')\n"
     ]
    },
    {
     "name": "stderr",
     "output_type": "stream",
     "text": [
      "/tmp/ipykernel_45240/1288574611.py:6: FutureWarning: Index.__or__ operating as a set operation is deprecated, in the future this will be a logical operation matching Series.__or__.  Use index.union(other) instead\n",
      "  print(area.index | population.index)\n"
     ]
    }
   ],
   "source": [
    "area = pd.Series({'Alaska': 1723337, 'Texas': 695662,\n",
    "'California': 423967}, name='area')\n",
    "population = pd.Series({'California': 38332521, 'Texas': 26448193,\n",
    "'New York': 19651127}, name='population')\n",
    "print(population / area)\n",
    "print(area.index | population.index)"
   ]
  },
  {
   "cell_type": "code",
   "execution_count": 9,
   "metadata": {},
   "outputs": [
    {
     "name": "stdout",
     "output_type": "stream",
     "text": [
      "0    NaN\n",
      "1    5.0\n",
      "2    9.0\n",
      "3    NaN\n",
      "dtype: float64\n",
      "0    2.0\n",
      "1    5.0\n",
      "2    9.0\n",
      "3    5.0\n",
      "dtype: float64\n"
     ]
    }
   ],
   "source": [
    "A = pd.Series([2, 4, 6], index=[0, 1, 2])\n",
    "B = pd.Series([1, 3, 5], index=[1, 2, 3])\n",
    "print(A + B)\n",
    "# 如果用 NaN 值不是我们想要的结果，那么可以用适当的对象方法代替运算符。例如，\n",
    "# A.add(B) 等价于 A + B ，也可以设置参数自定义 A 或 B 缺失的数据：\n",
    "print(A.add(B, fill_value=0))"
   ]
  },
  {
   "cell_type": "markdown",
   "metadata": {},
   "source": [
    "##### 1.2.2. DataFrame 索引对齐\n",
    "在计算两个 DataFrame 时，类似的索引对齐规则也同样会出现在共同（并集）列中"
   ]
  },
  {
   "cell_type": "code",
   "execution_count": 11,
   "metadata": {},
   "outputs": [
    {
     "name": "stdout",
     "output_type": "stream",
     "text": [
      "    A   B\n",
      "0   0  11\n",
      "1  11  16\n",
      "   B  A  C\n",
      "0  9  2  6\n",
      "1  3  8  2\n",
      "2  4  2  6\n",
      "      A     B   C\n",
      "0   2.0  20.0 NaN\n",
      "1  19.0  19.0 NaN\n",
      "2   NaN   NaN NaN\n"
     ]
    }
   ],
   "source": [
    "A = pd.DataFrame(rng.randint(0, 20, (2, 2)),\n",
    "columns=list('AB'))\n",
    "print(A)\n",
    "B = pd.DataFrame(rng.randint(0, 10, (3, 3)),\n",
    "columns=list('BAC'))\n",
    "print(B)\n",
    "print(A + B)"
   ]
  },
  {
   "cell_type": "markdown",
   "metadata": {},
   "source": [
    "两个对象的行列索引可以是不同顺序的，结果的索引会自动按顺序排列。在\n",
    "Series 中，我们可以通过运算符方法的 fill_value 参数自定义缺失值。这里，我们将用 A\n",
    "中所有值的均值来填充缺失值（计算 A 的均值需要用 stack 将二维数组压缩成一维数组）"
   ]
  },
  {
   "cell_type": "markdown",
   "metadata": {},
   "source": [
    "### 1.2.3 通用函数 ： DataFrame 与 Series 的运算"
   ]
  },
  {
   "cell_type": "code",
   "execution_count": 15,
   "metadata": {},
   "outputs": [
    {
     "name": "stdout",
     "output_type": "stream",
     "text": [
      "[[4 1 4 7]\n",
      " [9 8 8 0]\n",
      " [8 6 8 7]]\n",
      "[[ 0  0  0  0]\n",
      " [ 5  7  4 -7]\n",
      " [ 4  5  4  0]]\n",
      "   Q  R  S  T\n",
      "0  0  0  0  0\n",
      "1  5  7  4 -7\n",
      "2  4  5  4  0\n",
      "   Q  R  S  T\n",
      "0  3  0  3  6\n",
      "1  1  0  0 -8\n",
      "2  2  0  2  1\n",
      "Q    4\n",
      "S    4\n",
      "Name: 0, dtype: int64\n",
      "     Q   R    S   T\n",
      "0  0.0 NaN  0.0 NaN\n",
      "1  5.0 NaN  4.0 NaN\n",
      "2  4.0 NaN  4.0 NaN\n"
     ]
    }
   ],
   "source": [
    "A = rng.randint(10, size=(3, 4))\n",
    "print(A)\n",
    "print(A - A[0])\n",
    "df = pd.DataFrame(A, columns=list('QRST'))\n",
    "# 让二维数组减自身的一行数据会按行计算\n",
    "print(df - df.iloc[0])\n",
    "# 如果你想按列计算，那么就需要利用前面介绍过的运算符方法，通过 axis 参数设置：\n",
    "print(df.subtract(df['R'], axis=0))\n",
    "\n",
    "halfrow = df.iloc[0, ::2]\n",
    "print(halfrow)\n",
    "print(df - halfrow)"
   ]
  },
  {
   "cell_type": "markdown",
   "metadata": {},
   "source": [
    "# 2. 处理缺失值\n",
    "缺失值主要有三种形\n",
    "式： null 、 NaN 或 NA\n",
    "\n",
    "### 2.1 选择处理缺失值的方法\n",
    "\n",
    "一般情况下可以分为两种：一种方法\n",
    "是通过 **一个覆盖全局的掩码表示缺失值**，另一种方法是用一个 **标签值（sentinel value）表\n",
    "示缺失值** 。\n",
    "+ 在掩码方法中，掩码可能是一个与原数组维度相同的完整布尔类型数组，也可能是用一个\n",
    "比特（0 或 1）表示有缺失值的局部状态。\n",
    "，也可能是些\n",
    "+ 在标签方法中，标签值可能是具体的数据（例如用 - 9999 表示缺失的整数）\n",
    "极少出现的形式。另外，标签值还可能是更全局的值，比如用 NaN （不是一个数）表示缺\n",
    "失的浮点数，它是 IEEE 浮点数规范中指定的特殊字符。"
   ]
  },
  {
   "cell_type": "markdown",
   "metadata": {},
   "source": [
    "### 2.2 Pandas 的缺失值\n",
    "##### 2.2.1. None ：Python 对象类型的缺失值\n",
    "Pandas 可以使用的第一种缺失值标签是 None ，它是一个 Python 单体对象，经常在代码中\n",
    "表示缺失值。由于 None 是一个 Python 对象，所以不能作为任何 NumPy / Pandas 数组类型\n",
    "的缺失值，只能用于 'object' 数组类型（即由 Python 对象构成的数组）"
   ]
  },
  {
   "cell_type": "code",
   "execution_count": 16,
   "metadata": {},
   "outputs": [
    {
     "name": "stdout",
     "output_type": "stream",
     "text": [
      "[1 None 3 4]\n",
      "dtype = object\n",
      "29.7 ms ± 342 µs per loop (mean ± std. dev. of 7 runs, 10 loops each)\n",
      "\n",
      "dtype = int\n",
      "752 µs ± 6.93 µs per loop (mean ± std. dev. of 7 runs, 1000 loops each)\n",
      "\n"
     ]
    }
   ],
   "source": [
    "import numpy as np\n",
    "import pandas as pd\n",
    "\n",
    "vals1 = np.array([1, None, 3, 4])\n",
    "print(vals1)\n",
    "\n",
    "for dtype in ['object', 'int']:\n",
    "    print(\"dtype =\", dtype)\n",
    "    %timeit np.arange(1E6, dtype=dtype).sum()\n",
    "    print()"
   ]
  },
  {
   "cell_type": "markdown",
   "metadata": {},
   "source": [
    "##### 2.2.2. NaN ： 数值类型的缺失值\n",
    "另一种缺失值的标签是 NaN （全称 Not a Number，不是一个数字），是一种按照 IEEE 浮点\n",
    "数标准设计、在任何系统中都兼容的特殊浮点数："
   ]
  },
  {
   "cell_type": "code",
   "execution_count": 21,
   "metadata": {},
   "outputs": [
    {
     "name": "stdout",
     "output_type": "stream",
     "text": [
      "float64\n",
      "nan\n",
      "nan\n",
      "nan nan nan\n",
      "8.0 1.0 4.0\n"
     ]
    }
   ],
   "source": [
    "vals2 = np.array([1, np.nan, 3, 4])\n",
    "print(vals2.dtype)\n",
    "print(1 + np.nan)\n",
    "print(0 *np.nan)\n",
    "# 虽然这些累计操作的结果定义是合理的（即不会抛出异常），但是并非总是有效的：\n",
    "print(vals2.sum(), vals2.min(), vals2.max())\n",
    "# NumPy 也提供了一些特殊的累计函数，它们可以忽略缺失值的影响：\n",
    "print(np.nansum(vals2), np.nanmin(vals2), np.nanmax(vals2))"
   ]
  },
  {
   "cell_type": "markdown",
   "metadata": {},
   "source": [
    "##### 2.2.3. Pandas中 NaN 与 None 的差异\n",
    "虽然 NaN 与 None 各有各的用处，但是 Pandas 把它们看成是可以等价交换的，在适当的时\n",
    "候会将两者进行替换："
   ]
  },
  {
   "cell_type": "code",
   "execution_count": 22,
   "metadata": {},
   "outputs": [
    {
     "data": {
      "text/plain": [
       "0    1.0\n",
       "1    NaN\n",
       "2    2.0\n",
       "3    NaN\n",
       "dtype: float64"
      ]
     },
     "execution_count": 22,
     "metadata": {},
     "output_type": "execute_result"
    }
   ],
   "source": [
    "pd.Series([1, np.nan, 2, None])"
   ]
  },
  {
   "cell_type": "markdown",
   "metadata": {},
   "source": [
    "Pandas 会将没有标签值的数据类型自动转换为 NA 。例如，当我们将整型数组中的一个值设\n",
    "置为 np.nan 时，这个值就会强制转换成浮点数缺失值 NA 。"
   ]
  },
  {
   "cell_type": "code",
   "execution_count": 23,
   "metadata": {},
   "outputs": [
    {
     "name": "stdout",
     "output_type": "stream",
     "text": [
      "0    0\n",
      "1    1\n",
      "dtype: int64\n",
      "0    NaN\n",
      "1    1.0\n",
      "dtype: float64\n"
     ]
    }
   ],
   "source": [
    "x = pd.Series(range(2), dtype=int)\n",
    "print(x)\n",
    "x[0] = None\n",
    "print(x)"
   ]
  },
  {
   "cell_type": "markdown",
   "metadata": {},
   "source": [
    "### 2.3处理缺失值\n",
    "+ isnull()\n",
    "创建一个布尔类型的掩码标签缺失值。\n",
    "\n",
    "+ notnull()\n",
    "与 isnull() 操作相反。\n",
    "\n",
    "+ dropna()\n",
    "返回一个剔除缺失值的数据。\n",
    "\n",
    "+ fillna()\n",
    "返回一个填充了缺失值的数据副本。"
   ]
  },
  {
   "cell_type": "markdown",
   "metadata": {},
   "source": [
    "##### 2.3.1. 发现缺失值\n",
    "Pandas 数据结构有两种有效的方法可以发现缺失值： isnull() 和 notnull() 。每种方法都\n",
    "返回布尔类型的掩码数据"
   ]
  },
  {
   "cell_type": "code",
   "execution_count": 24,
   "metadata": {},
   "outputs": [
    {
     "data": {
      "text/plain": [
       "0    False\n",
       "1     True\n",
       "2    False\n",
       "3     True\n",
       "dtype: bool"
      ]
     },
     "execution_count": 24,
     "metadata": {},
     "output_type": "execute_result"
    }
   ],
   "source": [
    "data = pd.Series([1, np.nan, 'hello', None])\n",
    "print(data.isnull())\n",
    "print(data[data.notnull()])"
   ]
  },
  {
   "cell_type": "code",
   "execution_count": 25,
   "metadata": {},
   "outputs": [
    {
     "data": {
      "text/plain": [
       "0        1\n",
       "2    hello\n",
       "dtype: object"
      ]
     },
     "execution_count": 25,
     "metadata": {},
     "output_type": "execute_result"
    }
   ],
   "source": [
    "# 布尔类型掩码数组可以直接作为 Series 或 DataFrame 的索引使用\n",
    "data[data.notnull()]"
   ]
  },
  {
   "cell_type": "markdown",
   "metadata": {},
   "source": [
    "##### 2.3.2. 剔除缺失值\n",
    "两种很好用的缺失值处理方法，分别是 dropna() （剔除缺\n",
    "失值）和 fillna() （填充缺失值）"
   ]
  },
  {
   "cell_type": "code",
   "execution_count": 26,
   "metadata": {},
   "outputs": [
    {
     "data": {
      "text/plain": [
       "0        1\n",
       "2    hello\n",
       "dtype: object"
      ]
     },
     "execution_count": 26,
     "metadata": {},
     "output_type": "execute_result"
    }
   ],
   "source": [
    "data.dropna()"
   ]
  },
  {
   "cell_type": "code",
   "execution_count": 28,
   "metadata": {},
   "outputs": [
    {
     "name": "stdout",
     "output_type": "stream",
     "text": [
      "     0    1  2\n",
      "1  2.0  3.0  5\n",
      "   2\n",
      "0  2\n",
      "1  5\n",
      "2  6\n"
     ]
    }
   ],
   "source": [
    "df = pd.DataFrame([[1,\n",
    "np.nan, 2],\n",
    "[2,\n",
    "3,\n",
    "5],\n",
    "[np.nan, 4,\n",
    "6]])\n",
    "print(df.dropna())\n",
    "print(df.dropna(axis='columns'))"
   ]
  },
  {
   "cell_type": "code",
   "execution_count": 31,
   "metadata": {},
   "outputs": [
    {
     "name": "stdout",
     "output_type": "stream",
     "text": [
      "     0    1  2\n",
      "0  1.0  NaN  2\n",
      "1  2.0  3.0  5\n",
      "2  NaN  4.0  6\n",
      "     0    1  2   3\n",
      "1  2.0  3.0  5 NaN\n"
     ]
    }
   ],
   "source": [
    "df[3] = np.nan\n",
    "print(df.dropna(axis='columns', how='all'))\n",
    "print(df.dropna(axis='rows', thresh=3))"
   ]
  },
  {
   "cell_type": "markdown",
   "metadata": {},
   "source": [
    "##### 2.3.3. 填充缺失值\n",
    "有时候你可能并不想移除缺失值，而是想把它们替换成有效的数值。有效的值可能是像\n",
    "0、1、2 那样单独的值，也可能是经过填充（imputation）或转换（interpolation）得到的。\n",
    "虽然你可以通过 isnull() 方法建立掩码来填充缺失值，但是 Pandas 为此专门提供了一个\n",
    "fillna() 方法，它将返回填充了缺失值后的数组副本"
   ]
  },
  {
   "cell_type": "code",
   "execution_count": 35,
   "metadata": {},
   "outputs": [
    {
     "name": "stdout",
     "output_type": "stream",
     "text": [
      "a    1.0\n",
      "b    NaN\n",
      "c    2.0\n",
      "d    NaN\n",
      "e    3.0\n",
      "dtype: float64\n",
      "a    1.0\n",
      "b    0.0\n",
      "c    2.0\n",
      "d    0.0\n",
      "e    3.0\n",
      "dtype: float64\n",
      "a    1.0\n",
      "b    1.0\n",
      "c    2.0\n",
      "d    2.0\n",
      "e    3.0\n",
      "dtype: float64\n"
     ]
    }
   ],
   "source": [
    "data = pd.Series([1, np.nan, 2, None, 3], index=list('abcde'))\n",
    "print(data)\n",
    "print(data.fillna(0))\n",
    "print(data.fillna(method='ffill'))\n",
    "print(data.fillna(method='bfill'))\n",
    "print(df.fillna(method='ffill', axis=1))"
   ]
  }
 ],
 "metadata": {
  "interpreter": {
   "hash": "33900ae3eb727f818fb73a865b143589e97419858590e33bf7cf1776c481e1d5"
  },
  "kernelspec": {
   "display_name": "Python 3.9.7 ('base')",
   "language": "python",
   "name": "python3"
  },
  "language_info": {
   "codemirror_mode": {
    "name": "ipython",
    "version": 3
   },
   "file_extension": ".py",
   "mimetype": "text/x-python",
   "name": "python",
   "nbconvert_exporter": "python",
   "pygments_lexer": "ipython3",
   "version": "3.9.7"
  },
  "orig_nbformat": 4
 },
 "nbformat": 4,
 "nbformat_minor": 2
}
