{
 "cells": [
  {
   "cell_type": "markdown",
   "metadata": {},
   "source": [
    "# 1.数据取值与选择\n",
    "### 1.1 Series 数据选择方法\n",
    "##### 1.1.1  将 Series 看作字典"
   ]
  },
  {
   "cell_type": "code",
   "execution_count": 6,
   "metadata": {},
   "outputs": [
    {
     "name": "stdout",
     "output_type": "stream",
     "text": [
      "a    0.25\n",
      "b    0.50\n",
      "c    0.75\n",
      "d    1.00\n",
      "dtype: float64\n",
      "0.5\n",
      "True\n",
      "Index(['a', 'b', 'c', 'd'], dtype='object')\n",
      "[('a', 0.25), ('b', 0.5), ('c', 0.75), ('d', 1.0)]\n",
      "a    0.25\n",
      "b    0.50\n",
      "c    0.75\n",
      "d    1.00\n",
      "e    1.25\n",
      "dtype: float64\n"
     ]
    }
   ],
   "source": [
    "import pandas as pd\n",
    "data = pd.Series([0.25, 0.5, 0.75, 1.0],\n",
    "index=['a', 'b', 'c', 'd'])\n",
    "print(data)\n",
    "print(data['b'])\n",
    "# 可以用 Python 字典的表达式和方法来检测键 / 索引和值\n",
    "print(\"a\" in data)\n",
    "print(data.keys())\n",
    "print(list(data.items()))\n",
    "\n",
    "# Series 对象还可以用字典语法调整数据。就像你可以通过增加新的键扩展字典一样，你也可以通过增加新的索引值扩展 Series ：\n",
    "data['e'] = 1.25\n",
    "print(data)\n"
   ]
  },
  {
   "cell_type": "markdown",
   "metadata": {},
   "source": [
    "##### 1.1.2. 将 Series 看作一维数组"
   ]
  },
  {
   "cell_type": "code",
   "execution_count": 8,
   "metadata": {},
   "outputs": [
    {
     "name": "stdout",
     "output_type": "stream",
     "text": [
      "a    0.25\n",
      "b    0.50\n",
      "c    0.75\n",
      "dtype: float64\n",
      "a    0.25\n",
      "b    0.50\n",
      "dtype: float64\n",
      "b    0.50\n",
      "c    0.75\n",
      "dtype: float64\n",
      "a    0.25\n",
      "e    1.25\n",
      "dtype: float64\n"
     ]
    }
   ],
   "source": [
    "# 将显式索引作为切片\n",
    "print(data['a':'c'])\n",
    "# 将隐式整数索引作为切片\n",
    "print(data[0:2])\n",
    "# 掩码\n",
    "print(data[(data > 0.3) & (data < 0.8)])\n",
    "# 花哨的索引\n",
    "print(data[['a', 'e']])"
   ]
  },
  {
   "cell_type": "markdown",
   "metadata": {},
   "source": [
    "##### 1.1.3. 索引器 ： loc 、 iloc 和 ix"
   ]
  },
  {
   "cell_type": "code",
   "execution_count": 14,
   "metadata": {},
   "outputs": [
    {
     "name": "stdout",
     "output_type": "stream",
     "text": [
      "1    a\n",
      "3    b\n",
      "5    c\n",
      "dtype: object\n",
      "a\n",
      "1    a\n",
      "3    b\n",
      "dtype: object\n",
      "b\n",
      "3    b\n",
      "5    c\n",
      "dtype: object\n"
     ]
    }
   ],
   "source": [
    "data = pd.Series(['a', 'b', 'c'], index=[1, 3, 5])\n",
    "print(data)\n",
    "# 第一种索引器是 loc 属性，表示取值和切片都是显式的\n",
    "print(data.loc[1])\n",
    "print(data.loc[1:3])\n",
    "# 第二种是 iloc 属性，表示取值和切片都是 Python 形式的 1 隐式索引：\n",
    "print(data.iloc[1])\n",
    "print(data.iloc[1:3])\n",
    "# 第三种取值属性是 ix ，它是前两种索引器的混合形式，在 Series 对象中 ix 等价于标准的\n",
    "# [] （Python 列表）取值方式。 ix 索引器主要用于 DataFrame 对象"
   ]
  },
  {
   "cell_type": "markdown",
   "metadata": {},
   "source": [
    "### 1.2 DataFrame 数据选择方法\n",
    "##### 1.2.1 将 DataFrame 看作字典"
   ]
  },
  {
   "cell_type": "code",
   "execution_count": 15,
   "metadata": {},
   "outputs": [
    {
     "data": {
      "text/html": [
       "<div>\n",
       "<style scoped>\n",
       "    .dataframe tbody tr th:only-of-type {\n",
       "        vertical-align: middle;\n",
       "    }\n",
       "\n",
       "    .dataframe tbody tr th {\n",
       "        vertical-align: top;\n",
       "    }\n",
       "\n",
       "    .dataframe thead th {\n",
       "        text-align: right;\n",
       "    }\n",
       "</style>\n",
       "<table border=\"1\" class=\"dataframe\">\n",
       "  <thead>\n",
       "    <tr style=\"text-align: right;\">\n",
       "      <th></th>\n",
       "      <th>area</th>\n",
       "      <th>pop</th>\n",
       "    </tr>\n",
       "  </thead>\n",
       "  <tbody>\n",
       "    <tr>\n",
       "      <th>California</th>\n",
       "      <td>423967</td>\n",
       "      <td>38332521</td>\n",
       "    </tr>\n",
       "    <tr>\n",
       "      <th>Texas</th>\n",
       "      <td>695662</td>\n",
       "      <td>26448193</td>\n",
       "    </tr>\n",
       "    <tr>\n",
       "      <th>New York</th>\n",
       "      <td>141297</td>\n",
       "      <td>19651127</td>\n",
       "    </tr>\n",
       "    <tr>\n",
       "      <th>Florida</th>\n",
       "      <td>170312</td>\n",
       "      <td>19552860</td>\n",
       "    </tr>\n",
       "    <tr>\n",
       "      <th>Illinois</th>\n",
       "      <td>149995</td>\n",
       "      <td>12882135</td>\n",
       "    </tr>\n",
       "  </tbody>\n",
       "</table>\n",
       "</div>"
      ],
      "text/plain": [
       "              area       pop\n",
       "California  423967  38332521\n",
       "Texas       695662  26448193\n",
       "New York    141297  19651127\n",
       "Florida     170312  19552860\n",
       "Illinois    149995  12882135"
      ]
     },
     "execution_count": 15,
     "metadata": {},
     "output_type": "execute_result"
    }
   ],
   "source": [
    "area = pd.Series({'California': 423967, 'Texas': 695662,\n",
    "'New York': 141297, 'Florida': 170312,\n",
    "'Illinois': 149995})\n",
    "pop = pd.Series({'California': 38332521, 'Texas': 26448193,\n",
    "'New York': 19651127, 'Florida': 19552860,\n",
    "'Illinois': 12882135})\n",
    "data = pd.DataFrame({'area':area, 'pop':pop})\n",
    "data"
   ]
  },
  {
   "cell_type": "markdown",
   "metadata": {},
   "source": [
    "两个 Series 分别构成 DataFrame 的一列，可以通过对列名进行字典形式（dictionary-style）\n",
    "的取值获取数据："
   ]
  },
  {
   "cell_type": "code",
   "execution_count": 18,
   "metadata": {},
   "outputs": [
    {
     "data": {
      "text/plain": [
       "California    38332521\n",
       "Texas         26448193\n",
       "New York      19651127\n",
       "Florida       19552860\n",
       "Illinois      12882135\n",
       "Name: pop, dtype: int64"
      ]
     },
     "execution_count": 18,
     "metadata": {},
     "output_type": "execute_result"
    }
   ],
   "source": [
    "data['pop']"
   ]
  },
  {
   "cell_type": "markdown",
   "metadata": {},
   "source": [
    "同样，也可以用属性形式（attribute-style）选择纯字符串列名的数据："
   ]
  },
  {
   "cell_type": "code",
   "execution_count": 19,
   "metadata": {},
   "outputs": [
    {
     "data": {
      "text/plain": [
       "California    423967\n",
       "Texas         695662\n",
       "New York      141297\n",
       "Florida       170312\n",
       "Illinois      149995\n",
       "Name: area, dtype: int64"
      ]
     },
     "execution_count": 19,
     "metadata": {},
     "output_type": "execute_result"
    }
   ],
   "source": [
    "data.area"
   ]
  },
  {
   "cell_type": "markdown",
   "metadata": {},
   "source": [
    "##### 1.2.2. 将 DataFrame 看作二维数组"
   ]
  },
  {
   "cell_type": "code",
   "execution_count": 21,
   "metadata": {},
   "outputs": [
    {
     "name": "stdout",
     "output_type": "stream",
     "text": [
      "[[  423967 38332521]\n",
      " [  695662 26448193]\n",
      " [  141297 19651127]\n",
      " [  170312 19552860]\n",
      " [  149995 12882135]]\n",
      "      California     Texas  New York   Florida  Illinois\n",
      "area      423967    695662    141297    170312    149995\n",
      "pop     38332521  26448193  19651127  19552860  12882135\n"
     ]
    }
   ],
   "source": [
    "print(data.values)\n",
    "print(data.T)"
   ]
  },
  {
   "cell_type": "code",
   "execution_count": null,
   "metadata": {},
   "outputs": [],
   "source": [
    "print(data.iloc[:3, :2])\n",
    "print(data.loc[:'Illinois', :'pop'])\n",
    "print(data.ix[:3, :'pop'])"
   ]
  }
 ],
 "metadata": {
  "interpreter": {
   "hash": "33900ae3eb727f818fb73a865b143589e97419858590e33bf7cf1776c481e1d5"
  },
  "kernelspec": {
   "display_name": "Python 3.9.7 ('base')",
   "language": "python",
   "name": "python3"
  },
  "language_info": {
   "codemirror_mode": {
    "name": "ipython",
    "version": 3
   },
   "file_extension": ".py",
   "mimetype": "text/x-python",
   "name": "python",
   "nbconvert_exporter": "python",
   "pygments_lexer": "ipython3",
   "version": "3.9.7"
  },
  "orig_nbformat": 4
 },
 "nbformat": 4,
 "nbformat_minor": 2
}
