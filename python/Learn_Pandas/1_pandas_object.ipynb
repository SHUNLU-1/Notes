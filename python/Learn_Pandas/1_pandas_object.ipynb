{
 "cells": [
  {
   "cell_type": "markdown",
   "metadata": {},
   "source": [
    "# 1.Pandas 的 Series 对象\n",
    "\n",
    "Pandas 的 Series 对象是一个带索引数据构成的一维数组。可以用一个数组创建 Series 对\n",
    "象，"
   ]
  },
  {
   "cell_type": "code",
   "execution_count": 1,
   "metadata": {},
   "outputs": [
    {
     "name": "stdout",
     "output_type": "stream",
     "text": [
      "1.3.4\n"
     ]
    }
   ],
   "source": [
    "import pandas\n",
    "print(pandas.__version__)\n",
    "\n",
    "import numpy as np\n",
    "import pandas as pd"
   ]
  },
  {
   "cell_type": "code",
   "execution_count": 2,
   "metadata": {},
   "outputs": [
    {
     "data": {
      "text/plain": [
       "0    0.25\n",
       "1    0.50\n",
       "2    0.75\n",
       "3    1.00\n",
       "dtype: float64"
      ]
     },
     "execution_count": 2,
     "metadata": {},
     "output_type": "execute_result"
    }
   ],
   "source": [
    "data = pd.Series([0.25, 0.5, 0.75, 1.0])\n",
    "data"
   ]
  },
  {
   "cell_type": "markdown",
   "metadata": {},
   "source": [
    "你会发现 Series 对象将一组数据和一组索引绑定在一起，我们可以通过\n",
    "values 属性和 index 属性获取数据。 values 属性返回的结果与 NumPy 数组类似"
   ]
  },
  {
   "cell_type": "code",
   "execution_count": 3,
   "metadata": {},
   "outputs": [
    {
     "data": {
      "text/plain": [
       "array([0.25, 0.5 , 0.75, 1.  ])"
      ]
     },
     "execution_count": 3,
     "metadata": {},
     "output_type": "execute_result"
    }
   ],
   "source": [
    "data.values"
   ]
  },
  {
   "cell_type": "markdown",
   "metadata": {},
   "source": [
    "index 属性返回的结果是一个类型为 pd.Index 的类数组对象\n",
    "\n",
    "和 NumPy 数组一样，数据可以通过 Python 的中括号索引标签获取："
   ]
  },
  {
   "cell_type": "code",
   "execution_count": 6,
   "metadata": {},
   "outputs": [
    {
     "name": "stdout",
     "output_type": "stream",
     "text": [
      "RangeIndex(start=0, stop=4, step=1)\n",
      "0.5\n",
      "1    0.50\n",
      "2    0.75\n",
      "dtype: float64\n"
     ]
    }
   ],
   "source": [
    "print(data.index)\n",
    "print(data[1])\n",
    "print(data[1:3])"
   ]
  },
  {
   "cell_type": "markdown",
   "metadata": {},
   "source": [
    "### 1.1 Serise 是通用的NumPy数组\n",
    "NumPy 数组通过隐式定义的整数索引获取数值，而 Pandas 的Series 对象用一种显式定义的索引与数值关联。"
   ]
  },
  {
   "cell_type": "code",
   "execution_count": 7,
   "metadata": {},
   "outputs": [
    {
     "name": "stdout",
     "output_type": "stream",
     "text": [
      "a    0.25\n",
      "b    0.50\n",
      "c    0.75\n",
      "d    1.00\n",
      "dtype: float64\n"
     ]
    }
   ],
   "source": [
    "data = pd.Series([0.25, 0.5, 0.75, 1.0],\n",
    "index=['a', 'b', 'c', 'd'])\n",
    "print(data)\n",
    "\n",
    "#也可以使用不连续或不按顺序的索引：\n",
    "data = pd.Series([0.25, 0.5, 0.75, 1.0],\n",
    "index=[2, 5, 3, 7])\n",
    "print(data)"
   ]
  },
  {
   "cell_type": "markdown",
   "metadata": {},
   "source": [
    "### 1.2. Series 是特殊的字典\n",
    "+ 字典是一种将任意键映射到\n",
    "一组任意值的数据结构，而 Series 对象其实是一种将类型键映射到一组类型值的数据结\n",
    "构。类型至关重要：就像 NumPy 数组背后特定类型的经过编译的代码使得它在某些操作\n",
    "上比普通的 Python 列表更加高效一样，Pandas Series 的类型信息使得它在某些操作上比\n",
    "Python 的字典更高效\n",
    "\n",
    "+ 用字典创建 Series 对象时，其索引默认按照顺序排列。\n",
    "\n",
    "+ 和字典不同， Series 对象还支持数组形式的操作，比如切片：\n"
   ]
  },
  {
   "cell_type": "code",
   "execution_count": 10,
   "metadata": {},
   "outputs": [
    {
     "name": "stdout",
     "output_type": "stream",
     "text": [
      "California    38332521\n",
      "Texas         26448193\n",
      "New York      19651127\n",
      "Florida       19552860\n",
      "Illinois      12882135\n",
      "dtype: int64\n",
      "38332521\n",
      "California    38332521\n",
      "Texas         26448193\n",
      "New York      19651127\n",
      "Florida       19552860\n",
      "Illinois      12882135\n",
      "dtype: int64\n"
     ]
    }
   ],
   "source": [
    "population_dict = {'California': 38332521,\n",
    "'Texas': 26448193,\n",
    "'New York': 19651127,\n",
    "'Florida': 19552860,\n",
    "'Illinois': 12882135}\n",
    "population = pd.Series(population_dict)\n",
    "print(population)\n",
    "# 用字典创建 Series 对象时，其索引默认按照顺序排列。\n",
    "print(population['California'])\n",
    "\n",
    "print(population['California':'Illinois'])"
   ]
  },
  {
   "cell_type": "markdown",
   "metadata": {},
   "source": [
    "### 1.3. 创建 Series 对象"
   ]
  },
  {
   "cell_type": "code",
   "execution_count": 13,
   "metadata": {},
   "outputs": [
    {
     "name": "stdout",
     "output_type": "stream",
     "text": [
      "1   NaN\n",
      "dtype: float64\n",
      "0    2\n",
      "1    4\n",
      "2    6\n",
      "dtype: int64\n",
      "100    5\n",
      "200    5\n",
      "300    5\n",
      "dtype: int64\n",
      "2    a\n",
      "1    b\n",
      "3    c\n",
      "dtype: object\n",
      "3    c\n",
      "2    a\n",
      "dtype: object\n"
     ]
    }
   ],
   "source": [
    "# 其中， index 是一个可选参数， data 参数支持多种数据类型。\n",
    "index=[1]\n",
    "print(pd.Series(data, index=index))\n",
    "\n",
    "# data 可以是列表或 NumPy 数组，这时 index 默认值为整数序列\n",
    "print(pd.Series([2, 4, 6]))\n",
    "\n",
    "# data 也可以是一个标量，创建 Series 对象时会重复填充到每个索引上\n",
    "print(pd.Series(5, index=[100, 200, 300]))\n",
    "\n",
    "# data 还可以是一个字典， index 默认是排序的字典键：\n",
    "print(pd.Series({2:'a', 1:'b', 3:'c'}))\n",
    "# 每一种形式都可以通过显式指定索引筛选需要的结果：\n",
    "print(pd.Series({2:'a', 1:'b', 3:'c'}, index=[3, 2]))\n"
   ]
  },
  {
   "cell_type": "markdown",
   "metadata": {},
   "source": [
    "# 2.Pandas 的 DataFrame 对象\n",
    "\n",
    "### 2.1如果将 Series 类比为带灵活索引的一维数组，那么 DataFrame 就可以看作是一种既有灵活\n",
    "的行索引，又有灵活列名的二维数组。就像你可以把二维数组看成是有序排列的一维数组\n",
    "一样，你也可以把 DataFrame 看成是有序排列的若干 Series 对象。这里的“排列”指的是\n",
    "它们拥有共同的索引。"
   ]
  },
  {
   "cell_type": "code",
   "execution_count": 16,
   "metadata": {},
   "outputs": [
    {
     "name": "stdout",
     "output_type": "stream",
     "text": [
      "California    423967\n",
      "Texas         695662\n",
      "New York      141297\n",
      "Florida       170312\n",
      "Illinois      149995\n",
      "dtype: int64\n",
      "            population    area\n",
      "California    38332521  423967\n",
      "Texas         26448193  695662\n",
      "New York      19651127  141297\n",
      "Florida       19552860  170312\n",
      "Illinois      12882135  149995\n",
      "Index(['California', 'Texas', 'New York', 'Florida', 'Illinois'], dtype='object')\n",
      "Index(['population', 'area'], dtype='object')\n"
     ]
    }
   ],
   "source": [
    "area_dict = {'California': 423967, 'Texas': 695662, 'New York': 141297,\n",
    "'Florida': 170312, 'Illinois': 149995}\n",
    "area = pd.Series(area_dict)\n",
    "print(area)\n",
    "\n",
    "states = pd.DataFrame({'population': population,\n",
    "'area': area})\n",
    "print(states)\n",
    "# Series 对象一样， DataFrame 也有一个 index 属性可以获取索引标签\n",
    "print(states.index)\n",
    "# DataFrame 还有一个 columns 属性，是存放列标签的 Index 对象\n",
    "print(states.columns)"
   ]
  },
  {
   "cell_type": "markdown",
   "metadata": {},
   "source": [
    "### 2.2. DataFrame 是特殊的字典\n",
    "与 Series 类似，我们也可以把 DataFrame 看成一种特殊的字典。字典是一个键映射一个值，而 DataFrame 是一列映射一个 Series 的数据。例如，通过 'area' 的列属性可以返回\n",
    "包含面积数据的 Series 对象："
   ]
  },
  {
   "cell_type": "code",
   "execution_count": 17,
   "metadata": {},
   "outputs": [
    {
     "data": {
      "text/plain": [
       "California    423967\n",
       "Texas         695662\n",
       "New York      141297\n",
       "Florida       170312\n",
       "Illinois      149995\n",
       "Name: area, dtype: int64"
      ]
     },
     "execution_count": 17,
     "metadata": {},
     "output_type": "execute_result"
    }
   ],
   "source": [
    "states['area']"
   ]
  },
  {
   "cell_type": "markdown",
   "metadata": {},
   "source": [
    "### 2.3. 创建 DataFrame 对象\n",
    "\n",
    "+ 通过单个 Series 对象创建。 DataFrame 是一组 Series 对象的集合，可以用单个 Series创建一个单列的 DataFrame ：\n",
    "+ 通过字典列表创建。任何元素是字典的列表都可以变成 DataFrame 。用一个简单的列表\n",
    "综合来创建一些数据\n",
    "+ 通过 Series 对象字典创建。就像之前见过的那样， DataFrame 也可以用一个由 Series\n",
    "对象构成的字典创建\n",
    "+ 通过 NumPy 二维数组创建。假如有一个二维数组，就可以创建一个可以指定行列索引\n",
    "值的 DataFrame 。如果不指定行列索引值，那么行列默认都是整数索引值\n",
    "+ 通过 NumPy 结构化数组创建。2.9 节曾介绍过结构化数组。由于 Pandas 的 DataFrame\n",
    "与结构化数组十分相似，因此可以通过结构化数组创建 DataFrame"
   ]
  },
  {
   "cell_type": "code",
   "execution_count": 20,
   "metadata": {},
   "outputs": [
    {
     "data": {
      "text/html": [
       "<div>\n",
       "<style scoped>\n",
       "    .dataframe tbody tr th:only-of-type {\n",
       "        vertical-align: middle;\n",
       "    }\n",
       "\n",
       "    .dataframe tbody tr th {\n",
       "        vertical-align: top;\n",
       "    }\n",
       "\n",
       "    .dataframe thead th {\n",
       "        text-align: right;\n",
       "    }\n",
       "</style>\n",
       "<table border=\"1\" class=\"dataframe\">\n",
       "  <thead>\n",
       "    <tr style=\"text-align: right;\">\n",
       "      <th></th>\n",
       "      <th>A</th>\n",
       "      <th>B</th>\n",
       "    </tr>\n",
       "  </thead>\n",
       "  <tbody>\n",
       "    <tr>\n",
       "      <th>0</th>\n",
       "      <td>0</td>\n",
       "      <td>0.0</td>\n",
       "    </tr>\n",
       "    <tr>\n",
       "      <th>1</th>\n",
       "      <td>0</td>\n",
       "      <td>0.0</td>\n",
       "    </tr>\n",
       "    <tr>\n",
       "      <th>2</th>\n",
       "      <td>0</td>\n",
       "      <td>0.0</td>\n",
       "    </tr>\n",
       "  </tbody>\n",
       "</table>\n",
       "</div>"
      ],
      "text/plain": [
       "   A    B\n",
       "0  0  0.0\n",
       "1  0  0.0\n",
       "2  0  0.0"
      ]
     },
     "execution_count": 20,
     "metadata": {},
     "output_type": "execute_result"
    }
   ],
   "source": [
    "pd.DataFrame(population, columns=['population'])\n",
    "\n",
    "data = [{'a': i, 'b': 2 * i}\n",
    "for i in range(3)]\n",
    "pd.DataFrame(data)\n",
    "pd.DataFrame([{'a': 1, 'b': 2}, {'b': 3, 'c': 4}])\n",
    "\n",
    "pd.DataFrame({'population': population,\n",
    "'area': area})\n",
    "\n",
    "pd.DataFrame(np.random.rand(3, 2),\n",
    "columns=['foo', 'bar'],\n",
    "index=['a', 'b', 'c'])\n",
    "\n",
    "A = np.zeros(3, dtype=[('A', 'i8'), ('B', 'f8')])\n",
    "pd.DataFrame(A)\n"
   ]
  },
  {
   "cell_type": "markdown",
   "metadata": {},
   "source": [
    "# 3 Pandas 的 Index 对象\n",
    "\n",
    "Series 和 DataFrame 对象都使用便于引用和调整的显式索引。Pandas 的\n",
    "Index 对象是一个很有趣的数据结构，可以将它看作是一个不可变数组或有序集合（实际\n",
    "上是一个多集，因为 Index 对象可能会包含重复值）。这两种观点使得 Index 对象能呈现一\n",
    "些有趣的功能。让我们用一个简单的整数列表来创建一个 Index 对象\n",
    "\n",
    "\n",
    "+ (1). 将 Index 看作不可变数组\n",
    "Index 对象的许多操作都像数组。例如，可以通过标准 Python 的取值方法获取数值，也可\n",
    "以通过切片获取数值\n",
    "\n",
    "+ (2) 将 Index 看作有序集合\n",
    "Pandas 对象被设计用于实现许多操作，如连接（join）数据集，其中会涉及许多集合操作。\n",
    "Index 对象遵循 Python 标准库的集合（ set ）数据结构的许多习惯用法，包括并集、交集、\n",
    "差集等："
   ]
  },
  {
   "cell_type": "code",
   "execution_count": 23,
   "metadata": {},
   "outputs": [
    {
     "name": "stdout",
     "output_type": "stream",
     "text": [
      "(0, 0.)\n",
      "[(0, 0.) (0, 0.)]\n",
      "Int64Index([3, 5, 7], dtype='int64')\n"
     ]
    },
    {
     "name": "stderr",
     "output_type": "stream",
     "text": [
      "/tmp/ipykernel_93380/3319668170.py:7: FutureWarning: Index.__and__ operating as a set operation is deprecated, in the future this will be a logical operation matching Series.__and__.  Use index.intersection(other) instead\n",
      "  print(indA & indB)\n"
     ]
    }
   ],
   "source": [
    "print(A[1])\n",
    "print(A[::2])\n",
    "\n",
    "indA = pd.Index([1, 3, 5, 7, 9])\n",
    "indB = pd.Index([2, 3, 5, 7, 11])\n",
    "\n",
    "print(indA & indB) # 交集\n",
    "print(indA | indB) # 并集\n",
    "print(indA ^ indB) # 异或"
   ]
  },
  {
   "cell_type": "code",
   "execution_count": null,
   "metadata": {},
   "outputs": [],
   "source": []
  }
 ],
 "metadata": {
  "interpreter": {
   "hash": "33900ae3eb727f818fb73a865b143589e97419858590e33bf7cf1776c481e1d5"
  },
  "kernelspec": {
   "display_name": "Python 3.9.7 ('base')",
   "language": "python",
   "name": "python3"
  },
  "language_info": {
   "codemirror_mode": {
    "name": "ipython",
    "version": 3
   },
   "file_extension": ".py",
   "mimetype": "text/x-python",
   "name": "python",
   "nbconvert_exporter": "python",
   "pygments_lexer": "ipython3",
   "version": "3.9.7"
  },
  "orig_nbformat": 4
 },
 "nbformat": 4,
 "nbformat_minor": 2
}
